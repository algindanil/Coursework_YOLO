{
 "metadata": {
  "kernelspec": {
   "language": "python",
   "display_name": "Python 3",
   "name": "python3"
  },
  "language_info": {
   "name": "python",
   "version": "3.7.12",
   "mimetype": "text/x-python",
   "codemirror_mode": {
    "name": "ipython",
    "version": 3
   },
   "pygments_lexer": "ipython3",
   "nbconvert_exporter": "python",
   "file_extension": ".py"
  },
  "kaggle": {
   "accelerator": "gpu",
   "dataSources": [
    {
     "sourceId": 8522948,
     "sourceType": "datasetVersion",
     "datasetId": 821893
    }
   ],
   "dockerImageVersionId": 30262,
   "isInternetEnabled": true,
   "language": "python",
   "sourceType": "notebook",
   "isGpuEnabled": true
  }
 },
 "nbformat_minor": 4,
 "nbformat": 4,
 "cells": [
  {
   "cell_type": "code",
   "source": [
    "%ls .."
   ],
   "metadata": {
    "execution": {
     "iopub.status.busy": "2024-05-27T20:28:28.128946Z",
     "iopub.execute_input": "2024-05-27T20:28:28.129346Z",
     "iopub.status.idle": "2024-05-27T20:28:29.102122Z",
     "shell.execute_reply.started": "2024-05-27T20:28:28.129308Z",
     "shell.execute_reply": "2024-05-27T20:28:29.101005Z"
    },
    "trusted": true
   },
   "execution_count": 3,
   "outputs": [
    {
     "name": "stdout",
     "text": "\u001B[0m\u001B[01;34minput\u001B[0m/  \u001B[01;34mlib\u001B[0m/  \u001B[01;34mworking\u001B[0m/\n",
     "output_type": "stream"
    }
   ]
  },
  {
   "cell_type": "code",
   "source": [
    "!git clone https://github.com/ultralytics/yolov5"
   ],
   "metadata": {
    "_uuid": "8f2839f25d086af736a60e9eeb907d3b93b6e0e5",
    "_cell_guid": "b1076dfc-b9ad-4769-8c92-a6c4dae69d19",
    "execution": {
     "iopub.status.busy": "2024-05-27T20:28:34.195271Z",
     "iopub.execute_input": "2024-05-27T20:28:34.196087Z",
     "iopub.status.idle": "2024-05-27T20:28:36.603986Z",
     "shell.execute_reply.started": "2024-05-27T20:28:34.196045Z",
     "shell.execute_reply": "2024-05-27T20:28:36.602764Z"
    },
    "trusted": true
   },
   "execution_count": 4,
   "outputs": [
    {
     "name": "stdout",
     "text": "Cloning into 'yolov5'...\nremote: Enumerating objects: 16625, done.\u001B[K\nremote: Counting objects: 100% (103/103), done.\u001B[K\nremote: Compressing objects: 100% (73/73), done.\u001B[K\nremote: Total 16625 (delta 58), reused 66 (delta 30), pack-reused 16522\u001B[K\nReceiving objects: 100% (16625/16625), 15.16 MiB | 34.35 MiB/s, done.\nResolving deltas: 100% (11415/11415), done.\n",
     "output_type": "stream"
    }
   ]
  },
  {
   "cell_type": "code",
   "source": [
    "!apt-get update\n",
    "!apt install -y python3.8"
   ],
   "metadata": {
    "execution": {
     "iopub.status.busy": "2024-05-27T20:29:05.748485Z",
     "iopub.execute_input": "2024-05-27T20:29:05.748910Z",
     "iopub.status.idle": "2024-05-27T20:29:24.894399Z",
     "shell.execute_reply.started": "2024-05-27T20:29:05.748873Z",
     "shell.execute_reply": "2024-05-27T20:29:24.893143Z"
    },
    "trusted": true
   },
   "execution_count": 5,
   "outputs": [
    {
     "name": "stdout",
     "text": "Get:1 https://developer.download.nvidia.com/compute/cuda/repos/ubuntu2004/x86_64  InRelease [1581 B]\nGet:2 http://packages.cloud.google.com/apt gcsfuse-focal InRelease [1225 B]    \nGet:3 https://packages.cloud.google.com/apt cloud-sdk InRelease [1616 B]       \nGet:4 https://developer.download.nvidia.com/compute/cuda/repos/ubuntu2004/x86_64  Packages [1562 kB]\nHit:5 http://archive.ubuntu.com/ubuntu focal InRelease                         \nGet:6 http://security.ubuntu.com/ubuntu focal-security InRelease [114 kB]      \nGet:7 https://packages.cloud.google.com/apt google-fast-socket InRelease [5015 B]\nErr:2 http://packages.cloud.google.com/apt gcsfuse-focal InRelease             \n  The following signatures couldn't be verified because the public key is not available: NO_PUBKEY C0BA5CE6DC6315A3\nGet:8 http://archive.ubuntu.com/ubuntu focal-updates InRelease [114 kB]        \nErr:3 https://packages.cloud.google.com/apt cloud-sdk InRelease     \n  The following signatures couldn't be verified because the public key is not available: NO_PUBKEY C0BA5CE6DC6315A3\nErr:7 https://packages.cloud.google.com/apt google-fast-socket InRelease\n  The following signatures couldn't be verified because the public key is not available: NO_PUBKEY B53DC80D13EDEF05\nGet:9 http://archive.ubuntu.com/ubuntu focal-backports InRelease [108 kB]\nGet:10 http://security.ubuntu.com/ubuntu focal-security/main amd64 Packages [3672 kB]\nGet:11 http://archive.ubuntu.com/ubuntu focal-updates/main amd64 Packages [4147 kB]\nGet:12 http://security.ubuntu.com/ubuntu focal-security/restricted amd64 Packages [3616 kB]\nGet:13 http://archive.ubuntu.com/ubuntu focal-updates/multiverse amd64 Packages [32.5 kB]\nGet:14 http://archive.ubuntu.com/ubuntu focal-updates/universe amd64 Packages [1503 kB]\nGet:15 http://security.ubuntu.com/ubuntu focal-security/multiverse amd64 Packages [29.8 kB]\nGet:16 http://security.ubuntu.com/ubuntu focal-security/universe amd64 Packages [1207 kB]\nGet:17 http://archive.ubuntu.com/ubuntu focal-updates/restricted amd64 Packages [3766 kB]\nGet:18 http://archive.ubuntu.com/ubuntu focal-backports/universe amd64 Packages [28.6 kB]\nGet:19 http://archive.ubuntu.com/ubuntu focal-backports/main amd64 Packages [55.2 kB]\nFetched 20.0 MB in 3s (7005 kB/s)                           \nReading package lists... Done\nW: An error occurred during the signature verification. The repository is not updated and the previous index files will be used. GPG error: http://packages.cloud.google.com/apt gcsfuse-focal InRelease: The following signatures couldn't be verified because the public key is not available: NO_PUBKEY C0BA5CE6DC6315A3\nW: An error occurred during the signature verification. The repository is not updated and the previous index files will be used. GPG error: https://packages.cloud.google.com/apt cloud-sdk InRelease: The following signatures couldn't be verified because the public key is not available: NO_PUBKEY C0BA5CE6DC6315A3\nW: An error occurred during the signature verification. The repository is not updated and the previous index files will be used. GPG error: https://packages.cloud.google.com/apt google-fast-socket InRelease: The following signatures couldn't be verified because the public key is not available: NO_PUBKEY B53DC80D13EDEF05\nW: Failed to fetch http://packages.cloud.google.com/apt/dists/gcsfuse-focal/InRelease  The following signatures couldn't be verified because the public key is not available: NO_PUBKEY C0BA5CE6DC6315A3\nW: Failed to fetch https://packages.cloud.google.com/apt/dists/cloud-sdk/InRelease  The following signatures couldn't be verified because the public key is not available: NO_PUBKEY C0BA5CE6DC6315A3\nW: Failed to fetch https://packages.cloud.google.com/apt/dists/google-fast-socket/InRelease  The following signatures couldn't be verified because the public key is not available: NO_PUBKEY B53DC80D13EDEF05\nW: Some index files failed to download. They have been ignored, or old ones used instead.\nReading package lists... Done\nBuilding dependency tree       \nReading state information... Done\nThe following additional packages will be installed:\n  libpython3.8 libpython3.8-minimal libpython3.8-stdlib python3.8-minimal\nSuggested packages:\n  python3.8-venv python3.8-doc binfmt-support\nThe following packages will be upgraded:\n  libpython3.8 libpython3.8-minimal libpython3.8-stdlib python3.8\n  python3.8-minimal\n5 upgraded, 0 newly installed, 0 to remove and 232 not upgraded.\nNeed to get 6294 kB of archives.\nAfter this operation, 17.4 kB disk space will be freed.\nGet:1 http://archive.ubuntu.com/ubuntu focal-updates/main amd64 libpython3.8 amd64 3.8.10-0ubuntu1~20.04.9 [1625 kB]\nGet:2 http://archive.ubuntu.com/ubuntu focal-updates/main amd64 python3.8 amd64 3.8.10-0ubuntu1~20.04.9 [387 kB]\nGet:3 http://archive.ubuntu.com/ubuntu focal-updates/main amd64 libpython3.8-stdlib amd64 3.8.10-0ubuntu1~20.04.9 [1674 kB]\nGet:4 http://archive.ubuntu.com/ubuntu focal-updates/main amd64 python3.8-minimal amd64 3.8.10-0ubuntu1~20.04.9 [1890 kB]\nGet:5 http://archive.ubuntu.com/ubuntu focal-updates/main amd64 libpython3.8-minimal amd64 3.8.10-0ubuntu1~20.04.9 [718 kB]\nFetched 6294 kB in 2s (3578 kB/s)             \u001B[0m\u001B[33m\n\n(Reading database ... 108827 files and directories currently installed.)\nPreparing to unpack .../libpython3.8_3.8.10-0ubuntu1~20.04.9_amd64.deb ...\n\u001B7\u001B[24;0f\u001B[42m\u001B[30mProgress: [  0%]\u001B[49m\u001B[39m [..........................................................] \u001B8\u001B7\u001B[24;0f\u001B[42m\u001B[30mProgress: [  5%]\u001B[49m\u001B[39m [##........................................................] \u001B8Unpacking libpython3.8:amd64 (3.8.10-0ubuntu1~20.04.9) over (3.8.10-0ubuntu1~20.04.4) ...\n\u001B7\u001B[24;0f\u001B[42m\u001B[30mProgress: [ 10%]\u001B[49m\u001B[39m [#####.....................................................] \u001B8Preparing to unpack .../python3.8_3.8.10-0ubuntu1~20.04.9_amd64.deb ...\n\u001B7\u001B[24;0f\u001B[42m\u001B[30mProgress: [ 14%]\u001B[49m\u001B[39m [########..................................................] \u001B8Unpacking python3.8 (3.8.10-0ubuntu1~20.04.9) over (3.8.10-0ubuntu1~20.04.4) ...\n\u001B7\u001B[24;0f\u001B[42m\u001B[30mProgress: [ 19%]\u001B[49m\u001B[39m [###########...............................................] \u001B8Preparing to unpack .../libpython3.8-stdlib_3.8.10-0ubuntu1~20.04.9_amd64.deb ...\n\u001B7\u001B[24;0f\u001B[42m\u001B[30mProgress: [ 24%]\u001B[49m\u001B[39m [#############.............................................] \u001B8Unpacking libpython3.8-stdlib:amd64 (3.8.10-0ubuntu1~20.04.9) over (3.8.10-0ubuntu1~20.04.4) ...\n\u001B7\u001B[24;0f\u001B[42m\u001B[30mProgress: [ 29%]\u001B[49m\u001B[39m [################..........................................] \u001B8Preparing to unpack .../python3.8-minimal_3.8.10-0ubuntu1~20.04.9_amd64.deb ...\n\u001B7\u001B[24;0f\u001B[42m\u001B[30mProgress: [ 33%]\u001B[49m\u001B[39m [###################.......................................] \u001B8Unpacking python3.8-minimal (3.8.10-0ubuntu1~20.04.9) over (3.8.10-0ubuntu1~20.04.4) ...\n\u001B7\u001B[24;0f\u001B[42m\u001B[30mProgress: [ 38%]\u001B[49m\u001B[39m [######################....................................] \u001B8Preparing to unpack .../libpython3.8-minimal_3.8.10-0ubuntu1~20.04.9_amd64.deb ...\n\u001B7\u001B[24;0f\u001B[42m\u001B[30mProgress: [ 43%]\u001B[49m\u001B[39m [########################..................................] \u001B8Unpacking libpython3.8-minimal:amd64 (3.8.10-0ubuntu1~20.04.9) over (3.8.10-0ubuntu1~20.04.4) ...\n\u001B7\u001B[24;0f\u001B[42m\u001B[30mProgress: [ 48%]\u001B[49m\u001B[39m [###########################...............................] \u001B8Setting up libpython3.8-minimal:amd64 (3.8.10-0ubuntu1~20.04.9) ...\n\u001B7\u001B[24;0f\u001B[42m\u001B[30mProgress: [ 52%]\u001B[49m\u001B[39m [##############################............................] \u001B8\u001B7\u001B[24;0f\u001B[42m\u001B[30mProgress: [ 57%]\u001B[49m\u001B[39m [#################################.........................] \u001B8Setting up python3.8-minimal (3.8.10-0ubuntu1~20.04.9) ...\n\u001B7\u001B[24;0f\u001B[42m\u001B[30mProgress: [ 62%]\u001B[49m\u001B[39m [###################################.......................] \u001B8\u001B7\u001B[24;0f\u001B[42m\u001B[30mProgress: [ 67%]\u001B[49m\u001B[39m [######################################....................] \u001B8Setting up libpython3.8-stdlib:amd64 (3.8.10-0ubuntu1~20.04.9) ...\n\u001B7\u001B[24;0f\u001B[42m\u001B[30mProgress: [ 71%]\u001B[49m\u001B[39m [#########################################.................] \u001B8\u001B7\u001B[24;0f\u001B[42m\u001B[30mProgress: [ 76%]\u001B[49m\u001B[39m [############################################..............] \u001B8Setting up python3.8 (3.8.10-0ubuntu1~20.04.9) ...\n\u001B7\u001B[24;0f\u001B[42m\u001B[30mProgress: [ 81%]\u001B[49m\u001B[39m [##############################################............] \u001B8\u001B7\u001B[24;0f\u001B[42m\u001B[30mProgress: [ 86%]\u001B[49m\u001B[39m [#################################################.........] \u001B8Setting up libpython3.8:amd64 (3.8.10-0ubuntu1~20.04.9) ...\n\u001B7\u001B[24;0f\u001B[42m\u001B[30mProgress: [ 90%]\u001B[49m\u001B[39m [####################################################......] \u001B8\u001B7\u001B[24;0f\u001B[42m\u001B[30mProgress: [ 95%]\u001B[49m\u001B[39m [#######################################################...] \u001B8Processing triggers for libc-bin (2.31-0ubuntu9.7) ...\nProcessing triggers for man-db (2.9.1-1) ...\nProcessing triggers for mime-support (3.64ubuntu1) ...\n\n\u001B7\u001B[0;24r\u001B8\u001B[1A\u001B[J",
     "output_type": "stream"
    }
   ]
  },
  {
   "cell_type": "code",
   "source": [
    "!pip install virtualenv\n",
    "\n",
    "!virtualenv venv -p $(which python3.8)"
   ],
   "metadata": {
    "execution": {
     "iopub.status.busy": "2024-05-27T20:29:43.180413Z",
     "iopub.execute_input": "2024-05-27T20:29:43.181315Z",
     "iopub.status.idle": "2024-05-27T20:29:57.193573Z",
     "shell.execute_reply.started": "2024-05-27T20:29:43.181278Z",
     "shell.execute_reply": "2024-05-27T20:29:57.192417Z"
    },
    "trusted": true
   },
   "execution_count": 7,
   "outputs": [
    {
     "name": "stdout",
     "text": "Requirement already satisfied: virtualenv in /opt/conda/lib/python3.7/site-packages (20.16.5)\nRequirement already satisfied: distlib<1,>=0.3.5 in /opt/conda/lib/python3.7/site-packages (from virtualenv) (0.3.6)\nRequirement already satisfied: importlib-metadata>=4.8.3 in /opt/conda/lib/python3.7/site-packages (from virtualenv) (4.12.0)\nRequirement already satisfied: platformdirs<3,>=2.4 in /opt/conda/lib/python3.7/site-packages (from virtualenv) (2.5.1)\nRequirement already satisfied: filelock<4,>=3.4.1 in /opt/conda/lib/python3.7/site-packages (from virtualenv) (3.7.1)\nRequirement already satisfied: zipp>=0.5 in /opt/conda/lib/python3.7/site-packages (from importlib-metadata>=4.8.3->virtualenv) (3.8.0)\nRequirement already satisfied: typing-extensions>=3.6.4 in /opt/conda/lib/python3.7/site-packages (from importlib-metadata>=4.8.3->virtualenv) (4.3.0)\n\u001B[33mWARNING: Running pip as the 'root' user can result in broken permissions and conflicting behaviour with the system package manager. It is recommended to use a virtual environment instead: https://pip.pypa.io/warnings/venv\u001B[0m\u001B[33m\n\u001B[0mcreated virtual environment CPython3.8.10.final.0-64 in 789ms\n  creator CPython3Posix(dest=/kaggle/working/venv, clear=False, no_vcs_ignore=False, global=False)\n  seeder FromAppData(download=False, pip=bundle, setuptools=bundle, wheel=bundle, via=copy, app_data_dir=/root/.local/share/virtualenv)\n    added seed packages: pip==22.2.2, setuptools==65.3.0, wheel==0.37.1\n  activators BashActivator,CShellActivator,FishActivator,NushellActivator,PowerShellActivator,PythonActivator\n",
     "output_type": "stream"
    }
   ]
  },
  {
   "cell_type": "code",
   "source": [
    "!/kaggle/working/venv/bin/pip install  -qr ./yolov5/requirements.txt "
   ],
   "metadata": {
    "execution": {
     "iopub.status.busy": "2024-05-27T20:31:07.612591Z",
     "iopub.execute_input": "2024-05-27T20:31:07.613445Z",
     "iopub.status.idle": "2024-05-27T20:33:39.162848Z",
     "shell.execute_reply.started": "2024-05-27T20:31:07.613390Z",
     "shell.execute_reply": "2024-05-27T20:33:39.161757Z"
    },
    "trusted": true
   },
   "execution_count": 8,
   "outputs": [
    {
     "name": "stdout",
     "text": "\n\u001B[1m[\u001B[0m\u001B[34;49mnotice\u001B[0m\u001B[1;39;49m]\u001B[0m\u001B[39;49m A new release of pip available: \u001B[0m\u001B[31;49m22.2.2\u001B[0m\u001B[39;49m -> \u001B[0m\u001B[32;49m24.0\u001B[0m\n\u001B[1m[\u001B[0m\u001B[34;49mnotice\u001B[0m\u001B[1;39;49m]\u001B[0m\u001B[39;49m To update, run: \u001B[0m\u001B[32;49m/kaggle/working/venv/bin/python -m pip install --upgrade pip\u001B[0m\n",
     "output_type": "stream"
    }
   ]
  },
  {
   "cell_type": "markdown",
   "source": [
    "### Data preparation\n",
    "---"
   ],
   "metadata": {}
  },
  {
   "cell_type": "code",
   "source": [
    "import os\n",
    "import shutil\n",
    "import numpy as np\n",
    "import pandas as pd\n",
    "\n",
    "from tqdm import tqdm\n",
    "from pathlib import Path"
   ],
   "metadata": {
    "execution": {
     "iopub.status.busy": "2024-05-27T20:34:17.393878Z",
     "iopub.execute_input": "2024-05-27T20:34:17.394305Z",
     "iopub.status.idle": "2024-05-27T20:34:17.400551Z",
     "shell.execute_reply.started": "2024-05-27T20:34:17.394269Z",
     "shell.execute_reply": "2024-05-27T20:34:17.399403Z"
    },
    "trusted": true
   },
   "execution_count": 9,
   "outputs": []
  },
  {
   "cell_type": "code",
   "source": [
    "!mkdir ./new_dataset"
   ],
   "metadata": {
    "execution": {
     "iopub.status.busy": "2024-05-27T20:35:22.804802Z",
     "iopub.execute_input": "2024-05-27T20:35:22.805185Z",
     "iopub.status.idle": "2024-05-27T20:35:23.754573Z",
     "shell.execute_reply.started": "2024-05-27T20:35:22.805151Z",
     "shell.execute_reply": "2024-05-27T20:35:23.753398Z"
    },
    "trusted": true
   },
   "execution_count": 12,
   "outputs": []
  },
  {
   "cell_type": "code",
   "source": [
    "%ls ./yolov5/"
   ],
   "metadata": {
    "execution": {
     "iopub.status.busy": "2024-05-27T20:37:04.258428Z",
     "iopub.execute_input": "2024-05-27T20:37:04.259224Z",
     "iopub.status.idle": "2024-05-27T20:37:05.204952Z",
     "shell.execute_reply.started": "2024-05-27T20:37:04.259185Z",
     "shell.execute_reply": "2024-05-27T20:37:05.203547Z"
    },
    "trusted": true
   },
   "execution_count": 19,
   "outputs": [
    {
     "name": "stdout",
     "text": "Argoverse.yaml        ImageNet1000.yaml  coco.yaml         \u001B[0m\u001B[01;34mscripts\u001B[0m/\nGlobalWheat2020.yaml  Objects365.yaml    coco128-seg.yaml  xView.yaml\nImageNet.yaml         SKU-110K.yaml      coco128.yaml\nImageNet10.yaml       VOC.yaml           \u001B[01;34mhyps\u001B[0m/\nImageNet100.yaml      VisDrone.yaml      \u001B[01;34mimages\u001B[0m/\n",
     "output_type": "stream"
    }
   ]
  },
  {
   "cell_type": "code",
   "source": [
    "!cp -r ../input/militaryaircraftdetectiondataset ./new_dataset"
   ],
   "metadata": {
    "execution": {
     "iopub.status.busy": "2024-05-27T20:37:43.001063Z",
     "iopub.execute_input": "2024-05-27T20:37:43.001448Z",
     "iopub.status.idle": "2024-05-27T20:46:53.516822Z",
     "shell.execute_reply.started": "2024-05-27T20:37:43.001412Z",
     "shell.execute_reply": "2024-05-27T20:46:53.515560Z"
    },
    "trusted": true
   },
   "execution_count": 20,
   "outputs": []
  },
  {
   "cell_type": "code",
   "source": [
    "data_dir = '/kaggle/working/new_dataset/militaryaircraftdetectiondataset'"
   ],
   "metadata": {
    "execution": {
     "iopub.status.busy": "2024-05-27T20:47:56.426739Z",
     "iopub.execute_input": "2024-05-27T20:47:56.427817Z",
     "iopub.status.idle": "2024-05-27T20:47:56.432580Z",
     "shell.execute_reply.started": "2024-05-27T20:47:56.427777Z",
     "shell.execute_reply": "2024-05-27T20:47:56.431519Z"
    },
    "trusted": true
   },
   "execution_count": 25,
   "outputs": []
  },
  {
   "cell_type": "code",
   "source": [
    "!ls {data_dir}"
   ],
   "metadata": {
    "execution": {
     "iopub.status.busy": "2024-05-27T20:47:56.771494Z",
     "iopub.execute_input": "2024-05-27T20:47:56.771903Z",
     "iopub.status.idle": "2024-05-27T20:47:57.709680Z",
     "shell.execute_reply.started": "2024-05-27T20:47:56.771866Z",
     "shell.execute_reply": "2024-05-27T20:47:57.708307Z"
    },
    "trusted": true
   },
   "execution_count": 26,
   "outputs": [
    {
     "name": "stdout",
     "text": "annotated_samples  crop  dataset\n",
     "output_type": "stream"
    }
   ]
  },
  {
   "cell_type": "code",
   "source": [
    "data_dir = Path(data_dir)\n",
    "\n",
    "image_paths = []\n",
    "annotation_paths = []\n",
    "\n",
    "for file_name in sorted(os.listdir(data_dir / 'dataset')):\n",
    "    file_name = Path(file_name)\n",
    "    if file_name.suffix == '.jpg':\n",
    "        image_paths.append(data_dir / 'dataset' / file_name)\n",
    "    if file_name.suffix == '.csv':\n",
    "        annotation_paths.append(data_dir / 'dataset' / file_name)"
   ],
   "metadata": {
    "execution": {
     "iopub.status.busy": "2024-05-27T20:48:28.991643Z",
     "iopub.execute_input": "2024-05-27T20:48:28.992759Z",
     "iopub.status.idle": "2024-05-27T20:48:29.816702Z",
     "shell.execute_reply.started": "2024-05-27T20:48:28.992716Z",
     "shell.execute_reply": "2024-05-27T20:48:29.815611Z"
    },
    "trusted": true
   },
   "execution_count": 27,
   "outputs": []
  },
  {
   "cell_type": "code",
   "source": [
    "class_names = sorted(os.listdir(data_dir / 'crop'))\n",
    "class2idx = {class_name: i for i, class_name in enumerate(class_names)}"
   ],
   "metadata": {
    "execution": {
     "iopub.status.busy": "2024-05-27T20:48:34.113057Z",
     "iopub.execute_input": "2024-05-27T20:48:34.113983Z",
     "iopub.status.idle": "2024-05-27T20:48:34.119368Z",
     "shell.execute_reply.started": "2024-05-27T20:48:34.113943Z",
     "shell.execute_reply": "2024-05-27T20:48:34.118293Z"
    },
    "trusted": true
   },
   "execution_count": 28,
   "outputs": []
  },
  {
   "cell_type": "markdown",
   "source": [
    "There are 40 classes of military aircrafts in the dataset"
   ],
   "metadata": {}
  },
  {
   "cell_type": "code",
   "source": [
    "class2idx"
   ],
   "metadata": {
    "execution": {
     "iopub.status.busy": "2024-05-27T20:48:37.016468Z",
     "iopub.execute_input": "2024-05-27T20:48:37.017451Z",
     "iopub.status.idle": "2024-05-27T20:48:37.025397Z",
     "shell.execute_reply.started": "2024-05-27T20:48:37.017411Z",
     "shell.execute_reply": "2024-05-27T20:48:37.024449Z"
    },
    "trusted": true
   },
   "execution_count": 29,
   "outputs": [
    {
     "execution_count": 29,
     "output_type": "execute_result",
     "data": {
      "text/plain": "{'A10': 0,\n 'A400M': 1,\n 'AG600': 2,\n 'AV8B': 3,\n 'B1': 4,\n 'B2': 5,\n 'B52': 6,\n 'Be200': 7,\n 'C130': 8,\n 'C17': 9,\n 'C2': 10,\n 'C5': 11,\n 'E2': 12,\n 'E7': 13,\n 'EF2000': 14,\n 'F117': 15,\n 'F14': 16,\n 'F15': 17,\n 'F16': 18,\n 'F18': 19,\n 'F22': 20,\n 'F35': 21,\n 'F4': 22,\n 'H6': 23,\n 'J10': 24,\n 'J20': 25,\n 'JAS39': 26,\n 'JF17': 27,\n 'KC135': 28,\n 'MQ9': 29,\n 'Mig31': 30,\n 'Mirage2000': 31,\n 'P3': 32,\n 'RQ4': 33,\n 'Rafale': 34,\n 'SR71': 35,\n 'Su24': 36,\n 'Su25': 37,\n 'Su34': 38,\n 'Su57': 39,\n 'Tornado': 40,\n 'Tu160': 41,\n 'Tu22M': 42,\n 'Tu95': 43,\n 'U2': 44,\n 'US2': 45,\n 'V22': 46,\n 'Vulcan': 47,\n 'XB70': 48,\n 'YF23': 49}"
     },
     "metadata": {}
    }
   ]
  },
  {
   "cell_type": "code",
   "source": [
    "def convert_bboxes_to_yolo_format(df: pd.DataFrame, class2idx: dict):\n",
    "    df['class'] = df['class'].apply(lambda x: class2idx[x]).values\n",
    "    df['xmin'] = (df['xmin'] / df['width']).values\n",
    "    df['ymin'] = (df['ymin'] / df['height']).values\n",
    "    df['xmax'] = (df['xmax'] / df['width']).values\n",
    "    df['ymax'] = (df['ymax'] / df['height']).values\n",
    "    df['xc']   = (df['xmin'] + df['xmax']) / 2\n",
    "    df['yc']   = (df['ymin'] + df['ymax']) / 2\n",
    "    df['w']    = (df['xmax'] - df['xmin'])\n",
    "    df['h']    = (df['ymax'] - df['ymin'])\n",
    "    df.drop(\n",
    "        ['filename', 'width', 'height', 'xmin', 'xmax', 'ymin', 'ymax'], \n",
    "        axis=1, \n",
    "        inplace=True\n",
    "    )\n",
    "    return df "
   ],
   "metadata": {
    "execution": {
     "iopub.status.busy": "2024-05-27T20:48:47.674431Z",
     "iopub.execute_input": "2024-05-27T20:48:47.674916Z",
     "iopub.status.idle": "2024-05-27T20:48:47.686475Z",
     "shell.execute_reply.started": "2024-05-27T20:48:47.674875Z",
     "shell.execute_reply": "2024-05-27T20:48:47.685269Z"
    },
    "trusted": true
   },
   "execution_count": 30,
   "outputs": []
  },
  {
   "cell_type": "code",
   "source": [
    "image_dir = data_dir / 'images'\n",
    "label_dir = data_dir / 'labels'\n",
    "os.makedirs(image_dir, exist_ok=True)\n",
    "os.makedirs(label_dir, exist_ok=True)"
   ],
   "metadata": {
    "execution": {
     "iopub.status.busy": "2024-05-27T20:48:57.789019Z",
     "iopub.execute_input": "2024-05-27T20:48:57.789442Z",
     "iopub.status.idle": "2024-05-27T20:48:57.795460Z",
     "shell.execute_reply.started": "2024-05-27T20:48:57.789408Z",
     "shell.execute_reply": "2024-05-27T20:48:57.794462Z"
    },
    "trusted": true
   },
   "execution_count": 31,
   "outputs": []
  },
  {
   "cell_type": "code",
   "source": [
    "for annotation_path in tqdm(annotation_paths):\n",
    "    image_id = annotation_path.parts[-1].split('.')[0]\n",
    "    annotation_df = pd.read_csv(annotation_path)\n",
    "    annotation_df = convert_bboxes_to_yolo_format(annotation_df, class2idx)\n",
    "    with open(Path(label_dir) / f'{image_id}.txt', 'w') as f:\n",
    "        f.write(annotation_df.to_string(header=False, index=False))"
   ],
   "metadata": {
    "execution": {
     "iopub.status.busy": "2024-05-27T20:48:59.725073Z",
     "iopub.execute_input": "2024-05-27T20:48:59.725484Z",
     "iopub.status.idle": "2024-05-27T20:51:03.430508Z",
     "shell.execute_reply.started": "2024-05-27T20:48:59.725449Z",
     "shell.execute_reply": "2024-05-27T20:51:03.429288Z"
    },
    "trusted": true
   },
   "execution_count": 32,
   "outputs": [
    {
     "name": "stderr",
     "text": "100%|██████████| 14462/14462 [02:03<00:00, 116.92it/s]\n",
     "output_type": "stream"
    }
   ]
  },
  {
   "cell_type": "code",
   "source": [
    "for image_path in image_paths:\n",
    "    shutil.move(str(image_path), image_dir)"
   ],
   "metadata": {
    "execution": {
     "iopub.status.busy": "2024-05-27T20:51:18.866096Z",
     "iopub.execute_input": "2024-05-27T20:51:18.866524Z",
     "iopub.status.idle": "2024-05-27T20:51:19.600345Z",
     "shell.execute_reply.started": "2024-05-27T20:51:18.866487Z",
     "shell.execute_reply": "2024-05-27T20:51:19.599481Z"
    },
    "trusted": true
   },
   "execution_count": 33,
   "outputs": []
  },
  {
   "cell_type": "code",
   "source": [
    "%ls new_dataset/militaryaircraftdetectiondataset/"
   ],
   "metadata": {
    "execution": {
     "iopub.status.busy": "2024-05-27T20:52:58.111275Z",
     "iopub.execute_input": "2024-05-27T20:52:58.112311Z",
     "iopub.status.idle": "2024-05-27T20:52:59.081747Z",
     "shell.execute_reply.started": "2024-05-27T20:52:58.112267Z",
     "shell.execute_reply": "2024-05-27T20:52:59.080611Z"
    },
    "trusted": true
   },
   "execution_count": 40,
   "outputs": [
    {
     "name": "stdout",
     "text": "\u001B[0m\u001B[01;34mimages\u001B[0m/  \u001B[01;34mlabels\u001B[0m/\n",
     "output_type": "stream"
    }
   ]
  },
  {
   "cell_type": "code",
   "source": [
    "shutil.rmtree(data_dir / 'dataset')\n",
    "shutil.rmtree(data_dir / 'crop')\n",
    "shutil.rmtree(data_dir / 'annotated_samples')"
   ],
   "metadata": {
    "execution": {
     "iopub.status.busy": "2024-05-27T20:52:48.917300Z",
     "iopub.execute_input": "2024-05-27T20:52:48.918204Z",
     "iopub.status.idle": "2024-05-27T20:52:48.925060Z",
     "shell.execute_reply.started": "2024-05-27T20:52:48.918162Z",
     "shell.execute_reply": "2024-05-27T20:52:48.924008Z"
    },
    "trusted": true
   },
   "execution_count": 39,
   "outputs": []
  },
  {
   "cell_type": "markdown",
   "source": [
    "#### Train/Test split\n",
    "---"
   ],
   "metadata": {}
  },
  {
   "cell_type": "code",
   "source": [
    "from collections import Counter\n",
    "from sklearn.model_selection import train_test_split"
   ],
   "metadata": {
    "execution": {
     "iopub.status.busy": "2024-05-27T20:53:25.142939Z",
     "iopub.execute_input": "2024-05-27T20:53:25.144172Z",
     "iopub.status.idle": "2024-05-27T20:53:25.301008Z",
     "shell.execute_reply.started": "2024-05-27T20:53:25.144101Z",
     "shell.execute_reply": "2024-05-27T20:53:25.300128Z"
    },
    "trusted": true
   },
   "execution_count": 47,
   "outputs": []
  },
  {
   "cell_type": "code",
   "source": [
    "image_paths = [f'images/{image_path}' for image_path in sorted(os.listdir(image_dir))]"
   ],
   "metadata": {
    "execution": {
     "iopub.status.busy": "2024-05-27T20:53:26.783066Z",
     "iopub.execute_input": "2024-05-27T20:53:26.783855Z",
     "iopub.status.idle": "2024-05-27T20:53:26.814248Z",
     "shell.execute_reply.started": "2024-05-27T20:53:26.783816Z",
     "shell.execute_reply": "2024-05-27T20:53:26.813432Z"
    },
    "trusted": true
   },
   "execution_count": 48,
   "outputs": []
  },
  {
   "cell_type": "code",
   "source": [
    "train_size = 0.8"
   ],
   "metadata": {
    "execution": {
     "iopub.status.busy": "2024-05-27T20:53:27.644716Z",
     "iopub.execute_input": "2024-05-27T20:53:27.645114Z",
     "iopub.status.idle": "2024-05-27T20:53:27.649583Z",
     "shell.execute_reply.started": "2024-05-27T20:53:27.645079Z",
     "shell.execute_reply": "2024-05-27T20:53:27.648558Z"
    },
    "trusted": true
   },
   "execution_count": 49,
   "outputs": []
  },
  {
   "cell_type": "code",
   "source": [
    "train_image_paths, val_image_paths = train_test_split(\n",
    "    image_paths, train_size=train_size, random_state=42, shuffle=True)"
   ],
   "metadata": {
    "execution": {
     "iopub.status.busy": "2024-05-27T20:53:29.122328Z",
     "iopub.execute_input": "2024-05-27T20:53:29.122727Z",
     "iopub.status.idle": "2024-05-27T20:53:29.132884Z",
     "shell.execute_reply.started": "2024-05-27T20:53:29.122696Z",
     "shell.execute_reply": "2024-05-27T20:53:29.131791Z"
    },
    "trusted": true
   },
   "execution_count": 50,
   "outputs": []
  },
  {
   "cell_type": "code",
   "source": [
    "with open(data_dir / 'train_split.txt', 'w') as f:\n",
    "    f.writelines(f'./{image_path}\\n' for image_path in train_image_paths)\n",
    "\n",
    "with open(data_dir / 'val_split.txt', 'w') as f:\n",
    "    f.writelines(f'./{image_path}\\n' for image_path in val_image_paths)"
   ],
   "metadata": {
    "execution": {
     "iopub.status.busy": "2024-05-27T20:53:29.498192Z",
     "iopub.execute_input": "2024-05-27T20:53:29.499026Z",
     "iopub.status.idle": "2024-05-27T20:53:29.513519Z",
     "shell.execute_reply.started": "2024-05-27T20:53:29.498991Z",
     "shell.execute_reply": "2024-05-27T20:53:29.512435Z"
    },
    "trusted": true
   },
   "execution_count": 51,
   "outputs": []
  },
  {
   "cell_type": "code",
   "execution_count": 52,
   "outputs": [],
   "source": [
    "import seaborn as sns\n",
    "import matplotlib.pyplot as plt"
   ],
   "metadata": {
    "collapsed": false
   }
  },
  {
   "cell_type": "code",
   "source": [
    "class_counter = {'train': Counter(), 'val': Counter()}\n",
    "class_freqs = {}\n",
    "\n",
    "with open(data_dir / 'train_split.txt', 'r') as f:\n",
    "    for line in f:\n",
    "        image_id = line.split('/')[-1].split('.')[0]\n",
    "        df = np.loadtxt(label_dir / f'{image_id}.txt',ndmin=2)\n",
    "        class_counter['train'].update(df[:, 0].astype(int))\n",
    "\n",
    "total = sum(class_counter['train'].values())\n",
    "class_freqs['train'] = {k: v / total for k, v in class_counter['train'].items()}\n",
    "        \n",
    "with open(data_dir / 'val_split.txt', 'r') as f:\n",
    "    for line in f:\n",
    "        image_id = line.split('/')[-1].split('.')[0]\n",
    "        df = np.loadtxt(label_dir / f'{image_id}.txt',ndmin=2)\n",
    "        class_counter['val'].update(df[:, 0].astype(int))\n",
    "\n",
    "total = sum(class_counter['val'].values())\n",
    "class_freqs['val'] = {k: v / total for k, v in class_counter['val'].items()}"
   ],
   "metadata": {
    "execution": {
     "iopub.status.busy": "2024-05-27T20:53:32.942786Z",
     "iopub.execute_input": "2024-05-27T20:53:32.944045Z",
     "iopub.status.idle": "2024-05-27T20:53:36.492437Z",
     "shell.execute_reply.started": "2024-05-27T20:53:32.943972Z",
     "shell.execute_reply": "2024-05-27T20:53:36.491306Z"
    },
    "trusted": true
   },
   "execution_count": 53,
   "outputs": []
  },
  {
   "cell_type": "code",
   "source": [
    "fig, ax = plt.subplots(figsize=(9, 6))\n",
    "\n",
    "ax.plot(range(40), [class_freqs['train'][i] for i in range(40)], color='navy', label='train');\n",
    "ax.plot(range(40), [class_freqs['val'][i] for i in range(40)], color='tomato', label='val');\n",
    "ax.legend();\n",
    "ax.set_xlabel('Class ID');\n",
    "ax.set_ylabel('Class Frequency');"
   ],
   "metadata": {
    "execution": {
     "iopub.status.busy": "2024-05-27T20:53:36.494194Z",
     "iopub.execute_input": "2024-05-27T20:53:36.494572Z",
     "iopub.status.idle": "2024-05-27T20:53:36.840645Z",
     "shell.execute_reply.started": "2024-05-27T20:53:36.494529Z",
     "shell.execute_reply": "2024-05-27T20:53:36.839661Z"
    },
    "trusted": true
   },
   "execution_count": 54,
   "outputs": [
    {
     "output_type": "display_data",
     "data": {
      "text/plain": "<Figure size 648x432 with 1 Axes>",
      "image/png": "[encoded data removed]"
     },
     "metadata": {
      "needs_background": "light"
     }
    }
   ]
  },
  {
   "cell_type": "markdown",
   "source": [
    "### Training\n",
    "---"
   ],
   "metadata": {}
  },
  {
   "cell_type": "code",
   "source": [
    "%ls {data_dir}"
   ],
   "metadata": {
    "execution": {
     "iopub.status.busy": "2024-05-27T20:54:20.189274Z",
     "iopub.execute_input": "2024-05-27T20:54:20.189678Z",
     "iopub.status.idle": "2024-05-27T20:54:21.135507Z",
     "shell.execute_reply.started": "2024-05-27T20:54:20.189644Z",
     "shell.execute_reply": "2024-05-27T20:54:21.134259Z"
    },
    "trusted": true
   },
   "execution_count": 56,
   "outputs": [
    {
     "name": "stdout",
     "text": "\u001B[0m\u001B[01;34mimages\u001B[0m/  \u001B[01;34mlabels\u001B[0m/  train_split.txt  val_split.txt\n",
     "output_type": "stream"
    }
   ]
  },
  {
   "cell_type": "code",
   "source": [
    "data_yaml = '''\n",
    "path: /kaggle/working/new_dataset/militaryaircraftdetectiondataset \n",
    "train: train_split.txt  # train images (relative to 'path') \n",
    "val: val_split.txt  # val images (relative to 'path') \n",
    "\n",
    "# Classes\n",
    "names:\n",
    " 0: A10\n",
    " 1: A400M\n",
    " 2: AG600\n",
    " 3: AV8B\n",
    " 4: B1\n",
    " 5: B2\n",
    " 6: B52\n",
    " 7: Be200\n",
    " 8: C130\n",
    " 9: C17\n",
    " 10: C2\n",
    " 11: C5\n",
    " 12: E2\n",
    " 13: E7\n",
    " 14: EF2000\n",
    " 15: F117\n",
    " 16: F14\n",
    " 17: F15\n",
    " 18: F16\n",
    " 19: F18\n",
    " 20: F22\n",
    " 21: F35\n",
    " 22: F4\n",
    " 23: H6\n",
    " 24: J10\n",
    " 25: J20 \n",
    " 26: JAS39\n",
    " 27: JF17\n",
    " 28: KC136\n",
    " 29: MQ9\n",
    " 30: Mig31\n",
    " 31: Mirage2000\n",
    " 32: P3\n",
    " 33: RQ4\n",
    " 34: Rafale\n",
    " 35: SR71\n",
    " 36: Su24\n",
    " 37: Su25\n",
    " 38: Su34\n",
    " 39: Su57\n",
    " 40: Tornado\n",
    " 41: Tu160\n",
    " 42: Tu22M\n",
    " 43: Tu95\n",
    " 44: U2\n",
    " 45: US2\n",
    " 46: V22\n",
    " 47: Vulcan\n",
    " 48: XB70\n",
    " 49: YF23\n",
    "'''"
   ],
   "metadata": {
    "execution": {
     "iopub.status.busy": "2024-05-27T21:22:39.186895Z",
     "iopub.execute_input": "2024-05-27T21:22:39.187976Z",
     "iopub.status.idle": "2024-05-27T21:22:39.193745Z",
     "shell.execute_reply.started": "2024-05-27T21:22:39.187932Z",
     "shell.execute_reply": "2024-05-27T21:22:39.192614Z"
    },
    "trusted": true
   },
   "execution_count": 102,
   "outputs": []
  },
  {
   "cell_type": "code",
   "source": [
    "%cd /kaggle/working/yolov5"
   ],
   "metadata": {
    "execution": {
     "iopub.status.busy": "2024-05-27T20:56:04.028944Z",
     "iopub.execute_input": "2024-05-27T20:56:04.030001Z",
     "iopub.status.idle": "2024-05-27T20:56:04.037341Z",
     "shell.execute_reply.started": "2024-05-27T20:56:04.029958Z",
     "shell.execute_reply": "2024-05-27T20:56:04.036136Z"
    },
    "trusted": true
   },
   "execution_count": 59,
   "outputs": [
    {
     "name": "stdout",
     "text": "/kaggle/working/yolov5\n",
     "output_type": "stream"
    }
   ]
  },
  {
   "cell_type": "code",
   "source": [
    "with open('data/MilitaryAircraft.yaml', 'w') as f:\n",
    "    f.write(data_yaml)"
   ],
   "metadata": {
    "execution": {
     "iopub.status.busy": "2024-05-27T21:22:43.746366Z",
     "iopub.execute_input": "2024-05-27T21:22:43.747369Z",
     "iopub.status.idle": "2024-05-27T21:22:43.752664Z",
     "shell.execute_reply.started": "2024-05-27T21:22:43.747327Z",
     "shell.execute_reply": "2024-05-27T21:22:43.751655Z"
    },
    "trusted": true
   },
   "execution_count": 103,
   "outputs": []
  },
  {
   "cell_type": "code",
   "source": [
    "!source /kaggle/working/venv/bin/activate"
   ],
   "metadata": {
    "execution": {
     "iopub.status.busy": "2024-05-27T21:22:47.481555Z",
     "iopub.execute_input": "2024-05-27T21:22:47.481940Z",
     "iopub.status.idle": "2024-05-27T21:22:48.442502Z",
     "shell.execute_reply.started": "2024-05-27T21:22:47.481912Z",
     "shell.execute_reply": "2024-05-27T21:22:48.441333Z"
    },
    "trusted": true
   },
   "execution_count": 104,
   "outputs": []
  },
  {
   "cell_type": "code",
   "source": [
    "train_script_str = '''\n",
    "#!/bin/bash\n",
    "\n",
    "BATCH_SIZE=48\n",
    "\n",
    "RUN_NAME=train_yolov5s_low\n",
    "\n",
    "source /kaggle/working/venv/bin/activate\n",
    "\n",
    "python train.py \\\n",
    "    \\\n",
    "    --hyp data/hyps/hyp.scratch-low.yaml \\\n",
    "    \\\n",
    "    --img 640 \\\n",
    "    --batch ${BATCH_SIZE} \\\n",
    "    --epochs 100 \\\n",
    "    --data MilitaryAircraft.yaml \\\n",
    "    --weights yolov5s.pt \\\n",
    "    \\\n",
    "    --project runs/MilitaryAircraft \\\n",
    "    --exist-ok \\\n",
    "    --name ${RUN_NAME} \n",
    "'''"
   ],
   "metadata": {
    "execution": {
     "iopub.status.busy": "2024-05-27T21:23:17.526161Z",
     "iopub.execute_input": "2024-05-27T21:23:17.527320Z",
     "iopub.status.idle": "2024-05-27T21:23:17.533000Z",
     "shell.execute_reply.started": "2024-05-27T21:23:17.527266Z",
     "shell.execute_reply": "2024-05-27T21:23:17.531700Z"
    },
    "trusted": true
   },
   "execution_count": 106,
   "outputs": []
  },
  {
   "cell_type": "code",
   "source": [
    "with open('run_train.sh', 'w') as f:\n",
    "    f.write(train_script_str)"
   ],
   "metadata": {
    "execution": {
     "iopub.status.busy": "2024-05-27T21:23:30.416212Z",
     "iopub.execute_input": "2024-05-27T21:23:30.416711Z",
     "iopub.status.idle": "2024-05-27T21:23:30.423251Z",
     "shell.execute_reply.started": "2024-05-27T21:23:30.416669Z",
     "shell.execute_reply": "2024-05-27T21:23:30.422017Z"
    },
    "trusted": true
   },
   "execution_count": 108,
   "outputs": []
  },
  {
   "cell_type": "code",
   "source": [
    "!chmod +x run_train.sh"
   ],
   "metadata": {
    "execution": {
     "iopub.status.busy": "2024-05-27T21:23:31.045178Z",
     "iopub.execute_input": "2024-05-27T21:23:31.046119Z",
     "iopub.status.idle": "2024-05-27T21:23:31.990629Z",
     "shell.execute_reply.started": "2024-05-27T21:23:31.046081Z",
     "shell.execute_reply": "2024-05-27T21:23:31.989193Z"
    },
    "trusted": true
   },
   "execution_count": 109,
   "outputs": []
  },
  {
   "cell_type": "code",
   "source": [
    "%cd yolov5"
   ],
   "metadata": {
    "execution": {
     "iopub.status.busy": "2024-05-26T15:51:26.916922Z",
     "iopub.execute_input": "2024-05-26T15:51:26.917936Z",
     "iopub.status.idle": "2024-05-26T15:51:26.925218Z",
     "shell.execute_reply.started": "2024-05-26T15:51:26.917870Z",
     "shell.execute_reply": "2024-05-26T15:51:26.924070Z"
    },
    "trusted": true
   },
   "execution_count": 66,
   "outputs": [
    {
     "name": "stdout",
     "text": "/kaggle/working/yolov5\n",
     "output_type": "stream"
    }
   ]
  },
  {
   "cell_type": "code",
   "source": [
    "! ./run_train.sh"
   ],
   "metadata": {
    "execution": {
     "iopub.status.busy": "2024-05-27T21:23:34.349441Z",
     "iopub.execute_input": "2024-05-27T21:23:34.350288Z"
    },
    "trusted": true
   },
   "execution_count": null,
   "outputs": [
    {
     "name": "stdout",
     "text": "\u001B[34m\u001B[1mtrain: \u001B[0mweights=yolov5s.pt, cfg=, data=MilitaryAircraft.yaml, hyp=data/hyps/hyp.scratch-low.yaml, epochs=300, batch_size=48, imgsz=640, rect=False, resume=False, nosave=False, noval=False, noautoanchor=False, noplots=False, evolve=None, evolve_population=data/hyps, resume_evolve=None, bucket=, cache=None, image_weights=False, device=, multi_scale=False, single_cls=False, optimizer=SGD, sync_bn=False, workers=8, project=runs/MilitaryAircraft, name=train_yolov5s_low, exist_ok=True, quad=False, cos_lr=False, label_smoothing=0.0, patience=100, freeze=[0], save_period=-1, seed=0, local_rank=-1, entity=None, upload_dataset=False, bbox_interval=-1, artifact_alias=latest, ndjson_console=False, ndjson_file=False\n\u001B[34m\u001B[1mgithub: \u001B[0mup to date with https://github.com/ultralytics/yolov5 ✅\nYOLOv5 🚀 v7.0-314-g60dde7f1 Python-3.8.10 torch-2.3.0+cu121 CUDA:0 (Tesla P100-PCIE-16GB, 16276MiB)\n\n\u001B[34m\u001B[1mhyperparameters: \u001B[0mlr0=0.01, lrf=0.01, momentum=0.937, weight_decay=0.0005, warmup_epochs=3.0, warmup_momentum=0.8, warmup_bias_lr=0.1, box=0.05, cls=0.5, cls_pw=1.0, obj=1.0, obj_pw=1.0, iou_t=0.2, anchor_t=4.0, fl_gamma=0.0, hsv_h=0.015, hsv_s=0.7, hsv_v=0.4, degrees=0.0, translate=0.1, scale=0.5, shear=0.0, perspective=0.0, flipud=0.0, fliplr=0.5, mosaic=1.0, mixup=0.0, copy_paste=0.0\n\u001B[34m\u001B[1mComet: \u001B[0mrun 'pip install comet_ml' to automatically track and visualize YOLOv5 🚀 runs in Comet\n\u001B[34m\u001B[1mTensorBoard: \u001B[0mStart with 'tensorboard --logdir runs/MilitaryAircraft', view at http://localhost:6006/\nOverriding model.yaml nc=80 with nc=50\n\n                 from  n    params  module                                  arguments                     \n  0                -1  1      3520  models.common.Conv                      [3, 32, 6, 2, 2]              \n  1                -1  1     18560  models.common.Conv                      [32, 64, 3, 2]                \n  2                -1  1     18816  models.common.C3                        [64, 64, 1]                   \n  3                -1  1     73984  models.common.Conv                      [64, 128, 3, 2]               \n  4                -1  2    115712  models.common.C3                        [128, 128, 2]                 \n  5                -1  1    295424  models.common.Conv                      [128, 256, 3, 2]              \n  6                -1  3    625152  models.common.C3                        [256, 256, 3]                 \n  7                -1  1   1180672  models.common.Conv                      [256, 512, 3, 2]              \n  8                -1  1   1182720  models.common.C3                        [512, 512, 1]                 \n  9                -1  1    656896  models.common.SPPF                      [512, 512, 5]                 \n 10                -1  1    131584  models.common.Conv                      [512, 256, 1, 1]              \n 11                -1  1         0  torch.nn.modules.upsampling.Upsample    [None, 2, 'nearest']          \n 12           [-1, 6]  1         0  models.common.Concat                    [1]                           \n 13                -1  1    361984  models.common.C3                        [512, 256, 1, False]          \n 14                -1  1     33024  models.common.Conv                      [256, 128, 1, 1]              \n 15                -1  1         0  torch.nn.modules.upsampling.Upsample    [None, 2, 'nearest']          \n 16           [-1, 4]  1         0  models.common.Concat                    [1]                           \n 17                -1  1     90880  models.common.C3                        [256, 128, 1, False]          \n 18                -1  1    147712  models.common.Conv                      [128, 128, 3, 2]              \n 19          [-1, 14]  1         0  models.common.Concat                    [1]                           \n 20                -1  1    296448  models.common.C3                        [256, 256, 1, False]          \n 21                -1  1    590336  models.common.Conv                      [256, 256, 3, 2]              \n 22          [-1, 10]  1         0  models.common.Concat                    [1]                           \n 23                -1  1   1182720  models.common.C3                        [512, 512, 1, False]          \n 24      [17, 20, 23]  1    148335  models.yolo.Detect                      [50, [[10, 13, 16, 30, 33, 23], [30, 61, 62, 45, 59, 119], [116, 90, 156, 198, 373, 326]], [128, 256, 512]]\nModel summary: 214 layers, 7154479 parameters, 7154479 gradients, 16.4 GFLOPs\n\nTransferred 343/349 items from yolov5s.pt\n\u001B[34m\u001B[1mAMP: \u001B[0mchecks passed ✅\n\u001B[34m\u001B[1moptimizer:\u001B[0m SGD(lr=0.01) with parameter groups 57 weight(decay=0.0), 60 weight(decay=0.000375), 60 bias\n\u001B[34m\u001B[1mtrain: \u001B[0mScanning /kaggle/working/new_dataset/militaryaircraftdetectiondataset/tra\u001B[0m\n\u001B[34m\u001B[1mtrain: \u001B[0mWARNING ⚠️ /kaggle/working/new_dataset/militaryaircraftdetectiondataset/images/014240b10dffa805240c72655e357866.jpg: corrupt JPEG restored and saved\n\u001B[34m\u001B[1mtrain: \u001B[0mWARNING ⚠️ /kaggle/working/new_dataset/militaryaircraftdetectiondataset/images/0659b84f8272d49753431dc808b8d4e1.jpg: corrupt JPEG restored and saved\n\u001B[34m\u001B[1mtrain: \u001B[0mWARNING ⚠️ /kaggle/working/new_dataset/militaryaircraftdetectiondataset/images/08b11baa46e2d9185dd9ee4af5ce89fc.jpg: corrupt JPEG restored and saved\n\u001B[34m\u001B[1mtrain: \u001B[0mWARNING ⚠️ /kaggle/working/new_dataset/militaryaircraftdetectiondataset/images/1e8b43deca87d25180aba67557735c01.jpg: corrupt JPEG restored and saved\n\u001B[34m\u001B[1mtrain: \u001B[0mWARNING ⚠️ /kaggle/working/new_dataset/militaryaircraftdetectiondataset/images/2044a7ebe3d8132a8bce492f42bbde1d.jpg: corrupt JPEG restored and saved\n\u001B[34m\u001B[1mtrain: \u001B[0mWARNING ⚠️ /kaggle/working/new_dataset/militaryaircraftdetectiondataset/images/21f5fc73aec6affd7a8f1d76d5866908.jpg: corrupt JPEG restored and saved\n\u001B[34m\u001B[1mtrain: \u001B[0mWARNING ⚠️ /kaggle/working/new_dataset/militaryaircraftdetectiondataset/images/2790a93ba1210aaaa09931b951d2376a.jpg: ignoring corrupt image/label: image file is truncated (2 bytes not processed)\n\u001B[34m\u001B[1mtrain: \u001B[0mWARNING ⚠️ /kaggle/working/new_dataset/militaryaircraftdetectiondataset/images/2d63eab2755538fa1e830f283eaefaa2.jpg: corrupt JPEG restored and saved\n\u001B[34m\u001B[1mtrain: \u001B[0mWARNING ⚠️ /kaggle/working/new_dataset/militaryaircraftdetectiondataset/images/33e9eebd84173751f4de6d10c7cab0c4.jpg: corrupt JPEG restored and saved\n\u001B[34m\u001B[1mtrain: \u001B[0mWARNING ⚠️ /kaggle/working/new_dataset/militaryaircraftdetectiondataset/images/37cef25b6530c45a02acb1d30b56a15b.jpg: corrupt JPEG restored and saved\n\u001B[34m\u001B[1mtrain: \u001B[0mWARNING ⚠️ /kaggle/working/new_dataset/militaryaircraftdetectiondataset/images/393ff29b0978ed06efe8911631e1791e.jpg: corrupt JPEG restored and saved\n\u001B[34m\u001B[1mtrain: \u001B[0mWARNING ⚠️ /kaggle/working/new_dataset/militaryaircraftdetectiondataset/images/3cda68798923952e40d8ec720d436207.jpg: corrupt JPEG restored and saved\n\u001B[34m\u001B[1mtrain: \u001B[0mWARNING ⚠️ /kaggle/working/new_dataset/militaryaircraftdetectiondataset/images/4075b1896e913e85d31001f6fbe2336e.jpg: ignoring corrupt image/label: image file is truncated (27 bytes not processed)\n\u001B[34m\u001B[1mtrain: \u001B[0mWARNING ⚠️ /kaggle/working/new_dataset/militaryaircraftdetectiondataset/images/43718f36b529dc159a51b479e40eba8c.jpg: corrupt JPEG restored and saved\n\u001B[34m\u001B[1mtrain: \u001B[0mWARNING ⚠️ /kaggle/working/new_dataset/militaryaircraftdetectiondataset/images/44a429b8b5a6165e21405347ed412649.jpg: corrupt JPEG restored and saved\n\u001B[34m\u001B[1mtrain: \u001B[0mWARNING ⚠️ /kaggle/working/new_dataset/militaryaircraftdetectiondataset/images/4e9909c2d98befa16315dd814e990f22.jpg: corrupt JPEG restored and saved\n\u001B[34m\u001B[1mtrain: \u001B[0mWARNING ⚠️ /kaggle/working/new_dataset/militaryaircraftdetectiondataset/images/4f6335afb880904ed5ebae7ed55fd81b.jpg: corrupt JPEG restored and saved\n\u001B[34m\u001B[1mtrain: \u001B[0mWARNING ⚠️ /kaggle/working/new_dataset/militaryaircraftdetectiondataset/images/53407a519525715fe10f141958cd543a.jpg: corrupt JPEG restored and saved\n\u001B[34m\u001B[1mtrain: \u001B[0mWARNING ⚠️ /kaggle/working/new_dataset/militaryaircraftdetectiondataset/images/548f7e5aead26331a842402c2a2e1abf.jpg: corrupt JPEG restored and saved\n\u001B[34m\u001B[1mtrain: \u001B[0mWARNING ⚠️ /kaggle/working/new_dataset/militaryaircraftdetectiondataset/images/59e1d43b57f90388879e9da7599b3f75.jpg: corrupt JPEG restored and saved\n\u001B[34m\u001B[1mtrain: \u001B[0mWARNING ⚠️ /kaggle/working/new_dataset/militaryaircraftdetectiondataset/images/5ed8dd35ea5346ac1dc70a726411cd04.jpg: corrupt JPEG restored and saved\n\u001B[34m\u001B[1mtrain: \u001B[0mWARNING ⚠️ /kaggle/working/new_dataset/militaryaircraftdetectiondataset/images/767d90ca1d3649ff1732376341d961ca.jpg: corrupt JPEG restored and saved\n\u001B[34m\u001B[1mtrain: \u001B[0mWARNING ⚠️ /kaggle/working/new_dataset/militaryaircraftdetectiondataset/images/7a1054ee4e1158ad3bb2d2d7b1308cc6.jpg: corrupt JPEG restored and saved\n\u001B[34m\u001B[1mtrain: \u001B[0mWARNING ⚠️ /kaggle/working/new_dataset/militaryaircraftdetectiondataset/images/7e722a1478e888c2d0b8bffeb7bbb154.jpg: ignoring corrupt image/label: image file is truncated (1 bytes not processed)\n\u001B[34m\u001B[1mtrain: \u001B[0mWARNING ⚠️ /kaggle/working/new_dataset/militaryaircraftdetectiondataset/images/7f35d5ac8df852e80c8a35c061ec9473.jpg: ignoring corrupt image/label: image file is truncated (0 bytes not processed)\n\u001B[34m\u001B[1mtrain: \u001B[0mWARNING ⚠️ /kaggle/working/new_dataset/militaryaircraftdetectiondataset/images/80ab29de242d75a6a3b08cf3eb08a415.jpg: corrupt JPEG restored and saved\n\u001B[34m\u001B[1mtrain: \u001B[0mWARNING ⚠️ /kaggle/working/new_dataset/militaryaircraftdetectiondataset/images/81132e8d96bf76ceac037b03839c82ab.jpg: corrupt JPEG restored and saved\n\u001B[34m\u001B[1mtrain: \u001B[0mWARNING ⚠️ /kaggle/working/new_dataset/militaryaircraftdetectiondataset/images/87825161a8c72af4e78e0a18be245e34.jpg: corrupt JPEG restored and saved\n\u001B[34m\u001B[1mtrain: \u001B[0mWARNING ⚠️ /kaggle/working/new_dataset/militaryaircraftdetectiondataset/images/88c2d4d1d4f5ab539558cf4129cd9ef2.jpg: corrupt JPEG restored and saved\n\u001B[34m\u001B[1mtrain: \u001B[0mWARNING ⚠️ /kaggle/working/new_dataset/militaryaircraftdetectiondataset/images/92711e787a2bf1173dc4afb5f40418e4.jpg: corrupt JPEG restored and saved\n\u001B[34m\u001B[1mtrain: \u001B[0mWARNING ⚠️ /kaggle/working/new_dataset/militaryaircraftdetectiondataset/images/98fcfb7b9525b96ab14dc16971c9c039.jpg: corrupt JPEG restored and saved\n\u001B[34m\u001B[1mtrain: \u001B[0mWARNING ⚠️ /kaggle/working/new_dataset/militaryaircraftdetectiondataset/images/a912ac8f44762b44a4916ad011437fbb.jpg: corrupt JPEG restored and saved\n\u001B[34m\u001B[1mtrain: \u001B[0mWARNING ⚠️ /kaggle/working/new_dataset/militaryaircraftdetectiondataset/images/ac7b8662ed3fb8b116f5db729e0c5a50.jpg: corrupt JPEG restored and saved\n\u001B[34m\u001B[1mtrain: \u001B[0mWARNING ⚠️ /kaggle/working/new_dataset/militaryaircraftdetectiondataset/images/ae14f65bd7744dbb8dc0931ee59fb619.jpg: corrupt JPEG restored and saved\n\u001B[34m\u001B[1mtrain: \u001B[0mWARNING ⚠️ /kaggle/working/new_dataset/militaryaircraftdetectiondataset/images/b0f81a4f37afa0d53b6f92ee1278316b.jpg: corrupt JPEG restored and saved\n\u001B[34m\u001B[1mtrain: \u001B[0mWARNING ⚠️ /kaggle/working/new_dataset/militaryaircraftdetectiondataset/images/b6c3bb6faa6ef9065bcf32683404e621.jpg: corrupt JPEG restored and saved\n\u001B[34m\u001B[1mtrain: \u001B[0mWARNING ⚠️ /kaggle/working/new_dataset/militaryaircraftdetectiondataset/images/b70799e73139409aeba1392d03ef4be9.jpg: corrupt JPEG restored and saved\n\u001B[34m\u001B[1mtrain: \u001B[0mWARNING ⚠️ /kaggle/working/new_dataset/militaryaircraftdetectiondataset/images/ba79a148bef8b8cae906f16d9d55a27b.jpg: corrupt JPEG restored and saved\n\u001B[34m\u001B[1mtrain: \u001B[0mWARNING ⚠️ /kaggle/working/new_dataset/militaryaircraftdetectiondataset/images/c28440d244bb289b61b19c6070657d6c.jpg: corrupt JPEG restored and saved\n\u001B[34m\u001B[1mtrain: \u001B[0mWARNING ⚠️ /kaggle/working/new_dataset/militaryaircraftdetectiondataset/images/c95b4fd51b689de2f0d7b161b11b7c9e.jpg: corrupt JPEG restored and saved\n\u001B[34m\u001B[1mtrain: \u001B[0mWARNING ⚠️ /kaggle/working/new_dataset/militaryaircraftdetectiondataset/images/d317123762f868d87ef908cff801fe6f.jpg: corrupt JPEG restored and saved\n\u001B[34m\u001B[1mtrain: \u001B[0mWARNING ⚠️ /kaggle/working/new_dataset/militaryaircraftdetectiondataset/images/d37af747d93eb94c18d0c7150b845af2.jpg: corrupt JPEG restored and saved\n\u001B[34m\u001B[1mtrain: \u001B[0mWARNING ⚠️ /kaggle/working/new_dataset/militaryaircraftdetectiondataset/images/d4a19e6524ed06786bc75802388069cd.jpg: corrupt JPEG restored and saved\n\u001B[34m\u001B[1mtrain: \u001B[0mWARNING ⚠️ /kaggle/working/new_dataset/militaryaircraftdetectiondataset/images/d9005561d68c4a89f95a3257374a0b2f.jpg: corrupt JPEG restored and saved\n\u001B[34m\u001B[1mtrain: \u001B[0mWARNING ⚠️ /kaggle/working/new_dataset/militaryaircraftdetectiondataset/images/de16e51a87c8a8cbe2e5cd03e2393a13.jpg: corrupt JPEG restored and saved\n\u001B[34m\u001B[1mtrain: \u001B[0mWARNING ⚠️ /kaggle/working/new_dataset/militaryaircraftdetectiondataset/images/df10e21f75151df5fe0d1a3118d244f6.jpg: corrupt JPEG restored and saved\n\u001B[34m\u001B[1mtrain: \u001B[0mWARNING ⚠️ /kaggle/working/new_dataset/militaryaircraftdetectiondataset/images/f2ea4aad6f8980b2f9254cda9eb13e9b.jpg: ignoring corrupt image/label: image file is truncated (2 bytes not processed)\n\u001B[34m\u001B[1mtrain: \u001B[0mWARNING ⚠️ /kaggle/working/new_dataset/militaryaircraftdetectiondataset/images/f6158735ad61f83ac6ad45e4032d3068.jpg: corrupt JPEG restored and saved\n\u001B[34m\u001B[1mtrain: \u001B[0mWARNING ⚠️ /kaggle/working/new_dataset/militaryaircraftdetectiondataset/images/fe26e23dabe4618337df064573717487.jpg: corrupt JPEG restored and saved\n\u001B[34m\u001B[1mval: \u001B[0mScanning /kaggle/working/new_dataset/militaryaircraftdetectiondataset/val_s\u001B[0m\n\u001B[34m\u001B[1mval: \u001B[0mWARNING ⚠️ /kaggle/working/new_dataset/militaryaircraftdetectiondataset/images/14dd66103e6399d3754f6bcb53fdead2.jpg: corrupt JPEG restored and saved\n\u001B[34m\u001B[1mval: \u001B[0mWARNING ⚠️ /kaggle/working/new_dataset/militaryaircraftdetectiondataset/images/2b80e26d24d077d2877caf97756db72d.jpg: corrupt JPEG restored and saved\n\u001B[34m\u001B[1mval: \u001B[0mWARNING ⚠️ /kaggle/working/new_dataset/militaryaircraftdetectiondataset/images/33ac074469512ac279d599cdd1157ec1.jpg: corrupt JPEG restored and saved\n\u001B[34m\u001B[1mval: \u001B[0mWARNING ⚠️ /kaggle/working/new_dataset/militaryaircraftdetectiondataset/images/4ef1fa6020f23711cc0e06dc1e7dfdbc.jpg: corrupt JPEG restored and saved\n\u001B[34m\u001B[1mval: \u001B[0mWARNING ⚠️ /kaggle/working/new_dataset/militaryaircraftdetectiondataset/images/68bdc6a16450c3c01fff8bcce9146948.jpg: corrupt JPEG restored and saved\n\u001B[34m\u001B[1mval: \u001B[0mWARNING ⚠️ /kaggle/working/new_dataset/militaryaircraftdetectiondataset/images/949bcbb399e20913e4e02230b00b6bdd.jpg: corrupt JPEG restored and saved\n\u001B[34m\u001B[1mval: \u001B[0mWARNING ⚠️ /kaggle/working/new_dataset/militaryaircraftdetectiondataset/images/cdfa23ff0a31e26db5af2ea32a07317e.jpg: corrupt JPEG restored and saved\n\u001B[34m\u001B[1mval: \u001B[0mWARNING ⚠️ /kaggle/working/new_dataset/militaryaircraftdetectiondataset/images/e704da53011ed94a1644bec7ffc904e9.jpg: ignoring corrupt image/label: image file is truncated (4 bytes not processed)\n\u001B[34m\u001B[1mval: \u001B[0mNew cache created: /kaggle/working/new_dataset/militaryaircraftdetectiondataset/val_split.cache\n\n\u001B[34m\u001B[1mAutoAnchor: \u001B[0m3.75 anchors/target, 0.999 Best Possible Recall (BPR). Current anchors are a good fit to dataset ✅\nPlotting labels to runs/MilitaryAircraft/train_yolov5s_low/labels.jpg... \nImage sizes 640 train, 640 val\nUsing 4 dataloader workers\nLogging results to \u001B[1mruns/MilitaryAircraft/train_yolov5s_low\u001B[0m\nStarting training for 300 epochs...\n\n      Epoch    GPU_mem   box_loss   obj_loss   cls_loss  Instances       Size\n      0/299      11.2G    0.08824    0.03119    0.09806        182        640:  ",
     "output_type": "stream"
    }
   ]
  },
  {
   "cell_type": "code",
   "source": [],
   "metadata": {},
   "execution_count": null,
   "outputs": []
  }
 ]
}
